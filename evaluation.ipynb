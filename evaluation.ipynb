{
 "cells": [
  {
   "cell_type": "markdown",
   "id": "6489ddc1",
   "metadata": {},
   "source": [
    "# Evaluation\n",
    "## Exercise 1: NumPy array Indexing/Slicing\n",
    "\n",
    "1.1) In this exercise, we will use the iris dataset. Load the \"iris.csv\" using the appropriate method for this file type (use the new functions from the package)."
   ]
  },
  {
   "cell_type": "code",
   "execution_count": 30,
   "id": "9fc07804",
   "metadata": {},
   "outputs": [],
   "source": [
    "from src.si.io.csv_file import read_csv\n",
    "\n",
    "iris = read_csv(\"datasets/iris/iris.csv\",label=True, features=True)"
   ]
  },
  {
   "cell_type": "markdown",
   "id": "a9c6c819",
   "metadata": {},
   "source": [
    "1.2) Select the penultimate independent variable.\n",
    "What is the dimension of the resulting array?"
   ]
  },
  {
   "cell_type": "code",
   "execution_count": 31,
   "id": "1b7bae82",
   "metadata": {},
   "outputs": [
    {
     "data": {
      "text/plain": [
       "'petal_length'"
      ]
     },
     "execution_count": 31,
     "metadata": {},
     "output_type": "execute_result"
    }
   ],
   "source": [
    "iris.features[-2]"
   ]
  },
  {
   "cell_type": "code",
   "execution_count": 32,
   "id": "484bc46a",
   "metadata": {},
   "outputs": [
    {
     "data": {
      "text/plain": [
       "(150,)"
      ]
     },
     "execution_count": 32,
     "metadata": {},
     "output_type": "execute_result"
    }
   ],
   "source": [
    "iris.X[:,-2].shape"
   ]
  },
  {
   "cell_type": "markdown",
   "id": "df72d3c4",
   "metadata": {},
   "source": [
    "1.3) Select the last 10 samples from the iris dataset. What is the mean of the last 10 samples for each independent variable/feature?"
   ]
  },
  {
   "cell_type": "code",
   "execution_count": 33,
   "id": "5c00d206",
   "metadata": {},
   "outputs": [
    {
     "data": {
      "text/plain": [
       "array([6.45, 3.03, 5.33])"
      ]
     },
     "execution_count": 33,
     "metadata": {},
     "output_type": "execute_result"
    }
   ],
   "source": [
    "import numpy as np\n",
    "\n",
    "np.mean(iris.X[-10:, :-1], axis=0) #Last column is categoric\n"
   ]
  },
  {
   "cell_type": "markdown",
   "id": "53cb37a3",
   "metadata": {},
   "source": [
    "1.4) Select all samples from the dataset with values less than or equal to 6 for all independent variables/features. How many samples do you obtain?"
   ]
  },
  {
   "cell_type": "code",
   "execution_count": 40,
   "id": "ce2deb8a",
   "metadata": {},
   "outputs": [
    {
     "data": {
      "text/plain": [
       "array([ True,  True,  True,  True,  True,  True,  True,  True,  True,\n",
       "        True,  True,  True,  True,  True,  True,  True,  True,  True,\n",
       "        True,  True,  True,  True,  True,  True,  True,  True,  True,\n",
       "        True,  True,  True,  True,  True,  True,  True,  True,  True,\n",
       "        True,  True,  True,  True,  True,  True,  True,  True,  True,\n",
       "        True,  True,  True,  True,  True, False, False, False,  True,\n",
       "       False,  True, False,  True, False,  True,  True,  True,  True,\n",
       "       False,  True, False,  True,  True, False,  True,  True, False,\n",
       "       False, False, False, False, False, False,  True,  True,  True,\n",
       "        True,  True,  True,  True,  True, False, False,  True,  True,\n",
       "        True, False,  True,  True,  True,  True,  True, False,  True,\n",
       "        True, False,  True, False, False, False, False,  True, False,\n",
       "       False, False, False, False, False,  True,  True, False, False,\n",
       "       False, False,  True, False,  True, False, False, False, False,\n",
       "       False, False, False, False, False, False, False, False, False,\n",
       "       False, False, False,  True, False, False, False,  True, False,\n",
       "       False, False, False, False, False,  True])"
      ]
     },
     "execution_count": 40,
     "metadata": {},
     "output_type": "execute_result"
    }
   ],
   "source": [
    "(iris.X <= 6).all(axis=1)"
   ]
  },
  {
   "cell_type": "code",
   "execution_count": 41,
   "id": "2ca3916b",
   "metadata": {},
   "outputs": [
    {
     "data": {
      "text/plain": [
       "(89, 4)"
      ]
     },
     "execution_count": 41,
     "metadata": {},
     "output_type": "execute_result"
    }
   ],
   "source": [
    "iris.X[(iris.X <= 6).all(axis=1)].shape"
   ]
  },
  {
   "cell_type": "markdown",
   "id": "ace938c8",
   "metadata": {},
   "source": [
    "1.5) Select all samples with a class/label different from 'Iris-setosa'. How many samples do you obtain?"
   ]
  },
  {
   "cell_type": "code",
   "execution_count": 50,
   "id": "1791964e",
   "metadata": {},
   "outputs": [
    {
     "data": {
      "text/plain": [
       "(100, 4)"
      ]
     },
     "execution_count": 50,
     "metadata": {},
     "output_type": "execute_result"
    }
   ],
   "source": [
    "iris.X[(iris.y != 'Iris-setosa')].shape"
   ]
  },
  {
   "cell_type": "markdown",
   "id": "ace737ed",
   "metadata": {},
   "source": [
    "## Exercise 2: NumPy array Indexing/Slicing\n",
    "\n",
    "2.1) Add a method to the Dataset class that removes all samples containing at least one null value (NaN). Note that the resulting object should not contain null values in any independent feature/variable. Also, note that you should update the y vector by removing entries associated with the samples to be removed. You should use only NumPy functions. <br>\n",
    "Method name: dropna"
   ]
  },
  {
   "cell_type": "markdown",
   "id": "aee504ac",
   "metadata": {},
   "source": [
    "2.2) Add a method to the Dataset class that replaces all null values with another value or the mean or median of the feature/variable. Note that the resulting object should not contain null values in any independent feature/variable. You should use only NumPy functions. <br>\n",
    "Method name: fillna"
   ]
  },
  {
   "cell_type": "markdown",
   "id": "d703081a",
   "metadata": {},
   "source": [
    "2.3) Add a method to the Dataset class that removes a sample by its index. Note that you should also update the y vector by removing the entry associated with the sample to be removed. You should use only NumPy functions. <br>\n",
    "Method name: remove_by_index"
   ]
  }
 ],
 "metadata": {
  "kernelspec": {
   "display_name": "si_solo",
   "language": "python",
   "name": "python3"
  },
  "language_info": {
   "codemirror_mode": {
    "name": "ipython",
    "version": 3
   },
   "file_extension": ".py",
   "mimetype": "text/x-python",
   "name": "python",
   "nbconvert_exporter": "python",
   "pygments_lexer": "ipython3",
   "version": "3.13.7"
  }
 },
 "nbformat": 4,
 "nbformat_minor": 5
}
